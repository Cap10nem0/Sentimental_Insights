{
 "cells": [
  {
   "cell_type": "code",
   "execution_count": 1,
   "id": "b66453c5",
   "metadata": {},
   "outputs": [],
   "source": [
    "# Importing all the necessary libraries\n",
    "\n",
    "import pandas as pd\n",
    "import numpy as np\n",
    "import nltk\n",
    "from wordcloud import WordCloud\n",
    "from wordcloud import ImageColorGenerator\n",
    "from wordcloud import STOPWORDS\n",
    "import matplotlib.pyplot as plt"
   ]
  },
  {
   "cell_type": "code",
   "execution_count": 7,
   "id": "22987230",
   "metadata": {},
   "outputs": [],
   "source": [
    "df_1 = pd.read_csv(r'C:\\Users\\Nemo\\Downloads\\Jules Verne\\df_twenty_thousand_labelled.csv')\n",
    "df_2 = pd.read_csv(r'C:\\Users\\Nemo\\Downloads\\Jules Verne\\df_journey_to_center_labelled.csv')\n",
    "df_3 = pd.read_csv(r'C:\\Users\\Nemo\\Downloads\\Jules Verne\\df_mysterious_island_labelled.csv')\n",
    "df_4 = pd.read_csv(r'C:\\Users\\Nemo\\Downloads\\Jules Verne\\df_round_the_moon_labelled.csv')\n",
    "df_5 = pd.read_csv(r'C:\\Users\\Nemo\\Downloads\\Jules Verne\\df_from_earth_to_moon_labelled.csv')\n",
    "df_test = pd.read_csv(r'C:\\Users\\Nemo\\Downloads\\Jules Verne\\df_around_the_world_labelled.csv')"
   ]
  },
  {
   "cell_type": "code",
   "execution_count": 8,
   "id": "26b8c9af",
   "metadata": {},
   "outputs": [],
   "source": [
    "df_train = pd.concat([df_1, df_2, df_3, df_4, df_5], axis=0)"
   ]
  },
  {
   "cell_type": "code",
   "execution_count": 9,
   "id": "96b90ffc",
   "metadata": {},
   "outputs": [
    {
     "data": {
      "text/plain": [
       "158"
      ]
     },
     "execution_count": 9,
     "metadata": {},
     "output_type": "execute_result"
    }
   ],
   "source": [
    "df_train['StopwordRemovedSentence'].isnull().sum()"
   ]
  },
  {
   "cell_type": "code",
   "execution_count": 10,
   "id": "94efb5e4",
   "metadata": {},
   "outputs": [
    {
     "data": {
      "text/plain": [
       "14"
      ]
     },
     "execution_count": 10,
     "metadata": {},
     "output_type": "execute_result"
    }
   ],
   "source": [
    "df_test['StopwordRemovedSentence'].isnull().sum()"
   ]
  },
  {
   "cell_type": "code",
   "execution_count": 11,
   "id": "73d850f2",
   "metadata": {},
   "outputs": [],
   "source": [
    "df_train = df_train[pd.notnull(df_train['StopwordRemovedSentence'])]\n",
    "df_train = df_train.reset_index(drop=True)\n",
    "\n",
    "df_test = df_test[pd.notnull(df_test['StopwordRemovedSentence'])]\n",
    "df_test = df_test.reset_index(drop=True)"
   ]
  },
  {
   "cell_type": "code",
   "execution_count": 12,
   "id": "959b540a",
   "metadata": {},
   "outputs": [
    {
     "data": {
      "text/plain": [
       "0"
      ]
     },
     "execution_count": 12,
     "metadata": {},
     "output_type": "execute_result"
    }
   ],
   "source": [
    "df_train['StopwordRemovedSentence'].isnull().sum()"
   ]
  },
  {
   "cell_type": "code",
   "execution_count": 13,
   "id": "9b126a01",
   "metadata": {},
   "outputs": [],
   "source": [
    "from nltk.util import ngrams\n",
    "from sklearn.feature_extraction.text import CountVectorizer\n",
    "\n",
    "train_og_review = df_train['StopwordRemovedSentence']\n",
    "test_og_review = df_test['StopwordRemovedSentence']\n",
    "\n",
    "cv = CountVectorizer(ngram_range = [1,1]) #for unigrams"
   ]
  },
  {
   "cell_type": "code",
   "execution_count": 14,
   "id": "396e9655",
   "metadata": {},
   "outputs": [
    {
     "name": "stdout",
     "output_type": "stream",
     "text": [
      "Train Vector Shape: (23089, 17068)\n",
      "Test Vector Shape: (2753, 17068)\n"
     ]
    }
   ],
   "source": [
    "train_vector = cv.fit_transform(train_og_review)\n",
    "print(\"Train Vector Shape:\",train_vector.shape)\n",
    "\n",
    "test_vector = cv.transform(test_og_review)\n",
    "print(\"Test Vector Shape:\", test_vector.shape)"
   ]
  },
  {
   "cell_type": "code",
   "execution_count": 15,
   "id": "567224c6",
   "metadata": {},
   "outputs": [
    {
     "name": "stdout",
     "output_type": "stream",
     "text": [
      "Accuracy score:  0.7134035597529967\n"
     ]
    }
   ],
   "source": [
    "from sklearn.naive_bayes import MultinomialNB\n",
    "from sklearn.metrics import accuracy_score, precision_score, recall_score, f1_score\n",
    "from sklearn.metrics import classification_report, confusion_matrix, plot_confusion_matrix\n",
    "\n",
    "# define true labels from train set\n",
    "x_train = train_vector\n",
    "y_train = df_train[\"Label\"]\n",
    "x_test = test_vector\n",
    "y_test = df_test[\"Label\"]\n",
    "\n",
    "# fit model and test on trai\n",
    "\n",
    "\n",
    "model = MultinomialNB()\n",
    "model.fit(x_train, y_train)\n",
    "predictions = model.predict(x_test)\n",
    "print (\"Accuracy score: \", accuracy_score(y_test, predictions))"
   ]
  },
  {
   "cell_type": "code",
   "execution_count": 16,
   "id": "9a87fddc",
   "metadata": {},
   "outputs": [
    {
     "name": "stdout",
     "output_type": "stream",
     "text": [
      "Precision score:  0.7178708065297873\n",
      "Recall score:  0.7134035597529967\n",
      "F1 score:  0.711875228116898\n"
     ]
    }
   ],
   "source": [
    "print (\"Precision score: \", precision_score(y_test, predictions, average = 'weighted'))\n",
    "print (\"Recall score: \", recall_score(y_test, predictions, average = 'weighted'))\n",
    "print (\"F1 score: \", f1_score(y_test, predictions, average = 'weighted'))"
   ]
  },
  {
   "cell_type": "markdown",
   "id": "dc4a2031",
   "metadata": {},
   "source": [
    "#### Task 2 (feature selection 1): Remove features with low variance"
   ]
  },
  {
   "cell_type": "code",
   "execution_count": 17,
   "id": "d421722d",
   "metadata": {},
   "outputs": [
    {
     "name": "stdout",
     "output_type": "stream",
     "text": [
      "Train feature space before filtering:  (23089, 17068)\n",
      "Train feature space after filtering:  (23089, 1878)\n",
      "Test feature space before filtering:  (2753, 17068)\n",
      "Test feature space after filtering:  (2753, 1878)\n"
     ]
    }
   ],
   "source": [
    "from sklearn.feature_selection import VarianceThreshold\n",
    "\n",
    "selector = VarianceThreshold(threshold = 0.001)\n",
    "\n",
    "X_train_features_filtered_var_thr = selector.fit(train_vector).transform(train_vector)\n",
    "print (\"Train feature space before filtering: \", train_vector.shape)\n",
    "print (\"Train feature space after filtering: \", X_train_features_filtered_var_thr.shape)\n",
    "\n",
    "\n",
    "X_test_features_filtered_var_thr = selector.transform(test_vector)\n",
    "print (\"Test feature space before filtering: \", test_vector.shape)\n",
    "print (\"Test feature space after filtering: \", X_test_features_filtered_var_thr.shape)"
   ]
  },
  {
   "cell_type": "code",
   "execution_count": 19,
   "id": "b6d8f78c",
   "metadata": {},
   "outputs": [
    {
     "name": "stdout",
     "output_type": "stream",
     "text": [
      "Accuracy score:  0.6749001089720306\n"
     ]
    }
   ],
   "source": [
    "# define true labels from train set\n",
    "x_train = X_train_features_filtered_var_thr\n",
    "y_train = df_train[\"Label\"]\n",
    "x_test = X_test_features_filtered_var_thr\n",
    "y_test = df_test[\"Label\"]\n",
    "\n",
    "\n",
    "\n",
    "# fit model and test on train\n",
    "model = MultinomialNB()\n",
    "model.fit(x_train, y_train)\n",
    "predictions = model.predict(x_test)\n",
    "print (\"Accuracy score: \", accuracy_score(y_test, predictions))"
   ]
  },
  {
   "cell_type": "code",
   "execution_count": 20,
   "id": "66578257",
   "metadata": {},
   "outputs": [
    {
     "name": "stdout",
     "output_type": "stream",
     "text": [
      "Precision score:  0.6781649294373491\n",
      "Recall score:  0.6749001089720306\n",
      "F1 score:  0.670623772290847\n"
     ]
    }
   ],
   "source": [
    "# For average = WEIGHTED\n",
    "print (\"Precision score: \", precision_score(y_test, predictions, average = 'weighted'))\n",
    "print (\"Recall score: \", recall_score(y_test, predictions, average = 'weighted'))\n",
    "print (\"F1 score: \", f1_score(y_test, predictions, average = 'weighted'))"
   ]
  },
  {
   "cell_type": "code",
   "execution_count": 21,
   "id": "49cd308b",
   "metadata": {},
   "outputs": [
    {
     "name": "stdout",
     "output_type": "stream",
     "text": [
      "Train feature space before filtering:  (23089, 17068)\n",
      "Train feature space after filtering:  (23089, 384)\n",
      "Test feature space before filtering:  (2753, 17068)\n",
      "Test feature space after filtering:  (2753, 384)\n"
     ]
    }
   ],
   "source": [
    "selector = VarianceThreshold(threshold = 0.005)\n",
    "\n",
    "X_train_features_filtered_var_thr = selector.fit(train_vector).transform(train_vector)\n",
    "print (\"Train feature space before filtering: \", train_vector.shape)\n",
    "print (\"Train feature space after filtering: \", X_train_features_filtered_var_thr.shape)\n",
    "\n",
    "\n",
    "X_test_features_filtered_var_thr = selector.transform(test_vector)\n",
    "print (\"Test feature space before filtering: \", test_vector.shape)\n",
    "print (\"Test feature space after filtering: \", X_test_features_filtered_var_thr.shape)"
   ]
  },
  {
   "cell_type": "code",
   "execution_count": 22,
   "id": "00546b53",
   "metadata": {},
   "outputs": [
    {
     "name": "stdout",
     "output_type": "stream",
     "text": [
      "Accuracy score:  0.5608427170359608\n"
     ]
    }
   ],
   "source": [
    "# define true labels from train set\n",
    "x_train = X_train_features_filtered_var_thr\n",
    "y_train = df_train[\"Label\"]\n",
    "x_test = X_test_features_filtered_var_thr\n",
    "y_test = df_test[\"Label\"]\n",
    "\n",
    "\n",
    "\n",
    "# fit model and test on train\n",
    "model = MultinomialNB()\n",
    "model.fit(x_train, y_train)\n",
    "predictions = model.predict(x_test)\n",
    "print (\"Accuracy score: \", accuracy_score(y_test, predictions))"
   ]
  },
  {
   "cell_type": "code",
   "execution_count": 23,
   "id": "69e459b8",
   "metadata": {},
   "outputs": [
    {
     "name": "stdout",
     "output_type": "stream",
     "text": [
      "Precision score:  0.5855488858976261\n",
      "Recall score:  0.5608427170359608\n",
      "F1 score:  0.538234452051724\n"
     ]
    }
   ],
   "source": [
    "# For average = WEIGHTED\n",
    "print (\"Precision score: \", precision_score(y_test, predictions, average = 'weighted'))\n",
    "print (\"Recall score: \", recall_score(y_test, predictions, average = 'weighted'))\n",
    "print (\"F1 score: \", f1_score(y_test, predictions, average = 'weighted'))"
   ]
  },
  {
   "cell_type": "markdown",
   "id": "01a76998",
   "metadata": {},
   "source": [
    "#### Task 3 (feature selection 2): Select top k-best features using chi-squared statistics"
   ]
  },
  {
   "cell_type": "code",
   "execution_count": 24,
   "id": "4c412e4f",
   "metadata": {},
   "outputs": [
    {
     "name": "stdout",
     "output_type": "stream",
     "text": [
      "Train feature space before filtering:  (23089, 17068)\n",
      "Train feature space after filtering:  (23089, 17068)\n",
      "Test feature space before filtering:  (2753, 17068)\n",
      "Test feature space after filtering:  (2753, 17068)\n"
     ]
    }
   ],
   "source": [
    "from sklearn.feature_selection import SelectKBest, chi2\n",
    "\n",
    "selector = SelectKBest(chi2, k='all')\n",
    "X_train_features_filtered_kbest = selector.fit_transform(train_vector, y_train)\n",
    "print (\"Train feature space before filtering: \", train_vector.shape)\n",
    "print (\"Train feature space after filtering: \", X_train_features_filtered_kbest.shape)\n",
    "\n",
    "\n",
    "X_test_features_filtered_kbest = selector.transform(test_vector)\n",
    "print (\"Test feature space before filtering: \", test_vector.shape)\n",
    "print (\"Test feature space after filtering: \", X_test_features_filtered_kbest.shape)"
   ]
  },
  {
   "cell_type": "code",
   "execution_count": 25,
   "id": "ae3d2a9a",
   "metadata": {},
   "outputs": [
    {
     "name": "stdout",
     "output_type": "stream",
     "text": [
      "17068 17068\n",
      "\n",
      "\n",
      "Total number of features selected:  17068\n",
      "\n",
      "\n",
      "Informative features:  [('000', 0.9997319519743658), ('accidents', 5.658369566905264), ('amethysts', 1.4969179193251867), ('asks', 3.177492310475846), ('bearded', 1.7767889356584488), ('bounded', 1.116004070971444), ('capes', 1.2901597436535512), ('chop', 1.477140623067147), ('compensate', 3.5535778713168975), ('coral', 1.9526026875384488), ('danes', 1.4969179193251867), ('deviation', 0.3608806093291058), ('dragonnier', 1.7767889356584488), ('encountered', 3.177492310475846), ('exotic', 1.7767889356584488), ('fight', 41.03513713465864), ('francisco', 2.1779194315081534), ('gnawed', 1.4959190242217544), ('hatch', 1.7767889356584488), ('humour', 3.177492310475846), ('inevitable', 2.3131832295378127), ('israelites', 5.330366806975345), ('laying', 5.853491912119066), ('macciota', 1.7767889356584488), ('mercy', 157.1112543138923), ('mushrooms', 2.8720045850628058), ('oblivion', 3.177492310475846), ('palisades', 3.3402139325658844), ('phosphorescent', 0.5856364423454399), ('pours', 3.177492310475846), ('public', 5.71149820538307), ('recognise', 4.011615344701549), ('resplendently', 1.7767889356584488), ('sacrificed', 1.2737068549836352), ('senegal', 3.5535778713168975), ('skilled', 1.7767889356584488), ('spoil', 1.3372051149005162), ('sturdy', 1.062808580772473), ('task', 5.390909240207173), ('touching', 3.099690060554618), ('undeniable', 3.5535778713168975), ('vestiges', 1.4969179193251867), ('wholesome', 0.15039972181982697)]\n"
     ]
    }
   ],
   "source": [
    "all_train_features = cv\n",
    "\n",
    "indexes = selector.get_support(indices=True)\n",
    "scores = selector.scores_\n",
    "feature_names = all_train_features#selector.get_feature_names_out()\n",
    "print(len(scores), train_vector.shape[1])\n",
    "print(\"\\n\")\n",
    "print (\"Total number of features selected: \", len(indexes))\n",
    "\n",
    "\n",
    "#Finding informativeness of all the features\n",
    "informative_features = []\n",
    "for index in indexes:\n",
    "    informative_features.append((cv.get_feature_names()[index],scores[index])) \n",
    "\n",
    "# Printing all of the features with increment of 40    \n",
    "print(\"\\n\")\n",
    "print(\"Informative features: \",informative_features[0::400])"
   ]
  },
  {
   "cell_type": "code",
   "execution_count": 26,
   "id": "2ac0103a",
   "metadata": {},
   "outputs": [
    {
     "name": "stdout",
     "output_type": "stream",
     "text": [
      "Accuracy score:  0.5608427170359608\n"
     ]
    }
   ],
   "source": [
    "# define true labels from train set\n",
    "x_train = X_train_features_filtered_var_thr\n",
    "y_train = df_train[\"Label\"]\n",
    "x_test = X_test_features_filtered_var_thr\n",
    "y_test = df_test[\"Label\"]\n",
    "\n",
    "\n",
    "\n",
    "# fit model and test on train\n",
    "model = MultinomialNB()\n",
    "model.fit(x_train, y_train)\n",
    "predictions = model.predict(x_test)\n",
    "print (\"Accuracy score: \", accuracy_score(y_test, predictions))"
   ]
  },
  {
   "cell_type": "code",
   "execution_count": 27,
   "id": "6370e559",
   "metadata": {},
   "outputs": [
    {
     "name": "stdout",
     "output_type": "stream",
     "text": [
      "Precision score:  0.5855488858976261\n",
      "Recall score:  0.5608427170359608\n",
      "F1 score:  0.538234452051724\n"
     ]
    }
   ],
   "source": [
    "# For average = WEIGHTED\n",
    "print (\"Precision score: \", precision_score(y_test, predictions, average = 'weighted'))\n",
    "print (\"Recall score: \", recall_score(y_test, predictions, average = 'weighted'))\n",
    "print (\"F1 score: \", f1_score(y_test, predictions, average = 'weighted'))"
   ]
  },
  {
   "cell_type": "code",
   "execution_count": 28,
   "id": "bad1f0dd",
   "metadata": {},
   "outputs": [
    {
     "name": "stdout",
     "output_type": "stream",
     "text": [
      "Train feature space before filtering:  (23089, 17068)\n",
      "Train feature space after filtering:  (23089, 1000)\n",
      "Test feature space before filtering:  (2753, 17068)\n",
      "Test feature space after filtering:  (2753, 1000)\n"
     ]
    }
   ],
   "source": [
    "selector = SelectKBest(chi2, k=1000)\n",
    "X_train_features_filtered_kbest = selector.fit_transform(train_vector, y_train)\n",
    "print (\"Train feature space before filtering: \", train_vector.shape)\n",
    "print (\"Train feature space after filtering: \", X_train_features_filtered_kbest.shape)\n",
    "\n",
    "\n",
    "X_test_features_filtered_kbest = selector.transform(test_vector)\n",
    "print (\"Test feature space before filtering: \", test_vector.shape)\n",
    "print (\"Test feature space after filtering: \", X_test_features_filtered_kbest.shape)"
   ]
  },
  {
   "cell_type": "code",
   "execution_count": 29,
   "id": "f3f4150a",
   "metadata": {},
   "outputs": [
    {
     "name": "stdout",
     "output_type": "stream",
     "text": [
      "17068 17068\n",
      "\n",
      "\n",
      "Total number of features selected:  1000\n",
      "\n",
      "\n",
      "Informative features:  [('abandoned', 45.37718123138039), ('amount', 14.204874243520354), ('bank', 15.127253551444351), ('broken', 172.0753867391924), ('completely', 18.00837380228329), ('deafening', 27.22963818029482), ('discovery', 14.998765682714271), ('employing', 13.613779453228691), ('extend', 24.115893244589213), ('fight', 41.03513713465864), ('gas', 12.340510129853538), ('heat', 11.967255972530156), ('important', 129.66490533951517), ('last', 22.27507278391444), ('mad', 84.81062384671216), ('must', 32.78564993296512), ('overlooked', 12.968822363424248), ('precaution', 12.99404377603876), ('rather', 24.967025147127885), ('said', 54.30047018399957), ('slippery', 14.880930301826986), ('struck', 192.95774606240232), ('thick', 21.469903054379625), ('unimportant', 12.709969241903384), ('weapon', 15.127754677343116)]\n"
     ]
    }
   ],
   "source": [
    "all_train_features = cv\n",
    "\n",
    "indexes = selector.get_support(indices=True)\n",
    "scores = selector.scores_\n",
    "feature_names = all_train_features#selector.get_feature_names_out()\n",
    "print(len(scores), train_vector.shape[1])\n",
    "print(\"\\n\")\n",
    "print (\"Total number of features selected: \", len(indexes))\n",
    "\n",
    "#Finding informativeness of all the features\n",
    "informative_features = []\n",
    "for index in indexes:\n",
    "    informative_features.append((cv.get_feature_names()[index],scores[index])) \n",
    "\n",
    "# Printing all of the features with increment of 40    \n",
    "print(\"\\n\")\n",
    "print(\"Informative features: \",informative_features[0::40])"
   ]
  },
  {
   "cell_type": "code",
   "execution_count": 30,
   "id": "301b4277",
   "metadata": {},
   "outputs": [
    {
     "name": "stdout",
     "output_type": "stream",
     "text": [
      "Accuracy score:  0.7842353795859063\n"
     ]
    }
   ],
   "source": [
    "# define true labels from train set\n",
    "x_train = X_train_features_filtered_kbest\n",
    "y_train = df_train[\"Label\"]\n",
    "x_test = X_test_features_filtered_kbest\n",
    "y_test = df_test[\"Label\"]\n",
    "\n",
    "\n",
    "# fit model and test on train\n",
    "model = MultinomialNB()\n",
    "model.fit(x_train, y_train)\n",
    "predictions = model.predict(x_test)\n",
    "print (\"Accuracy score: \", accuracy_score(y_test, predictions))"
   ]
  },
  {
   "cell_type": "code",
   "execution_count": 31,
   "id": "e136e4be",
   "metadata": {},
   "outputs": [
    {
     "name": "stdout",
     "output_type": "stream",
     "text": [
      "Precision score:  0.7855095455908955\n",
      "Recall score:  0.7842353795859063\n",
      "F1 score:  0.7832239278256331\n"
     ]
    }
   ],
   "source": [
    "# For average = WEIGHTED\n",
    "print (\"Precision score: \", precision_score(y_test, predictions, average = 'weighted'))\n",
    "print (\"Recall score: \", recall_score(y_test, predictions, average = 'weighted'))\n",
    "print (\"F1 score: \", f1_score(y_test, predictions, average = 'weighted'))"
   ]
  },
  {
   "cell_type": "code",
   "execution_count": 32,
   "id": "612f893a",
   "metadata": {},
   "outputs": [
    {
     "name": "stdout",
     "output_type": "stream",
     "text": [
      "Train feature space before filtering:  (23089, 17068)\n",
      "Train feature space after filtering:  (23089, 5000)\n",
      "Test feature space before filtering:  (2753, 17068)\n",
      "Test feature space after filtering:  (2753, 5000)\n"
     ]
    }
   ],
   "source": [
    "selector = SelectKBest(chi2, k=5000)\n",
    "X_train_features_filtered_kbest = selector.fit_transform(train_vector, y_train)\n",
    "print (\"Train feature space before filtering: \", train_vector.shape)\n",
    "print (\"Train feature space after filtering: \", X_train_features_filtered_kbest.shape)\n",
    "\n",
    "\n",
    "X_test_features_filtered_kbest = selector.transform(test_vector)\n",
    "print (\"Test feature space before filtering: \", test_vector.shape)\n",
    "print (\"Test feature space after filtering: \", X_test_features_filtered_kbest.shape)"
   ]
  },
  {
   "cell_type": "code",
   "execution_count": 33,
   "id": "d50bbc62",
   "metadata": {},
   "outputs": [
    {
     "name": "stdout",
     "output_type": "stream",
     "text": [
      "17068 17068\n",
      "\n",
      "\n",
      "Total number of features selected:  5000\n",
      "\n",
      "\n",
      "Informative features:  [('040', 3.5535778713168975), ('abode', 3.4022957204095228), ('action', 14.797308821260618), ('afterward', 3.5111158971498324), ('alpha', 7.640720872824074), ('animated', 9.17927347559176), ('apron', 3.5535778713168975), ('asia', 3.3594142912589637), ('attractions', 7.877413427739999), ('balls', 5.719511085250525), ('beauties', 8.883944678292243), ('beyond', 3.7367933940553457), ('boldest', 6.354984620951692), ('bread', 8.647207405713722), ('builders', 3.5535778713168975), ('cannibals', 3.4955860591872763), ('cathedral', 5.330366806975345), ('charmed', 8.883944678292243), ('clasped', 4.490753757975559), ('colonists', 14.171324750307086), ('complete', 3.4593725398154023), ('conquer', 3.5742275298532498), ('contradictory', 3.5535778713168975), ('crab', 3.5535778713168975), ('cultivate', 5.330366806975345), ('deadly', 11.647795107622875), ('delicately', 3.5535778713168975), ('despatches', 6.354984620951692), ('difficulties', 13.912866579621726), ('discussions', 4.740917307383281), ('doubtful', 30.354446541936312), ('dull', 32.634093722011286), ('egress', 3.4955860591872763), ('enchanted', 15.991100420926037), ('enters', 6.354984620951692), ('europe', 9.16991266412008), ('existence', 16.800795817300582), ('fagot', 6.354984620951692), ('favor', 37.31256764882742), ('fever', 34.692008352502725), ('fixed', 10.49930467454435), ('forces', 3.307790143645069), ('framed', 4.18976536873976), ('funereal', 3.5535778713168975), ('gentle', 11.252024950779035), ('gold', 20.10805709420643), ('greyish', 3.4955860591872763), ('hail', 8.343899245796907), ('harsh', 15.887461552379229), ('hemorrhage', 6.093554932485264), ('history', 5.030454789846256), ('humble', 4.391017870058441), ('illumine', 3.5535778713168975), ('inadmissible', 3.5535778713168975), ('inexplicable', 17.735088532281853), ('instants', 3.2921481828504704), ('invariable', 4.490753757975559), ('journal', 8.438890211194174), ('kitchen', 6.388956774574706), ('lathe', 3.4955860591872763), ('lessons', 7.637331371861333), ('liver', 3.5742275298532498), ('luggage', 3.184267137459088), ('manage', 4.59584260986681), ('masts', 9.466392268277106), ('method', 5.022782183504057), ('moldy', 3.4022957204095228), ('mounting', 3.4317668066241893), ('narrow', 5.325869266990396), ('nets', 7.374660807502869), ('oak', 10.66073361395069), ('offers', 4.385108177972072), ('others', 34.04557899575848), ('parrot', 5.330366806975345), ('penetrative', 3.5535778713168975), ('phenomenon', 5.24043753488447), ('plane', 4.391017870058441), ('pon', 3.2921481828504704), ('precisely', 10.247753369005991), ('prisoner', 47.16721807926088), ('propelling', 5.330366806975345), ('pure', 50.26506726847427), ('railroad', 3.5535778713168975), ('reaumur', 3.5535778713168975), ('regain', 6.453218283490126), ('removed', 3.3039800265706107), ('resounding', 6.354984620951692), ('richmond', 3.4237735724174247), ('rosy', 3.5535778713168975), ('saluted', 18.07962300348403), ('scarcely', 6.095389615281503), ('scum', 3.177492310475846), ('seized', 5.849339334967217), ('several', 5.677854429354335), ('shells', 11.176718305832233), ('shrilly', 3.177492310475846), ('situated', 3.803159769440894), ('slyly', 3.177492310475846), ('solidified', 4.343913581251709), ('spacious', 3.4955860591872763), ('spirit', 7.974736343240817), ('star', 3.4908334221768174), ('stifling', 3.545495128972286), ('strength', 74.57889972517239), ('stumps', 3.5742275298532498), ('suckling', 10.66073361395069), ('supervision', 3.177492310475846), ('sustained', 3.3058362744655954), ('talk', 3.3487726613030517), ('tentacle', 3.4022957204095228), ('thirst', 5.719511085250525), ('tin', 3.4955860591872763), ('total', 3.188425742317418), ('trembles', 3.177492310475846), ('try', 11.053975973839705), ('unbreathable', 3.177492310475846), ('unguarded', 3.177492310475846), ('unsuccessful', 9.532476931427537), ('valley', 3.2250809964507168), ('vexing', 3.177492310475846), ('volumes', 14.530263580469146), ('watch', 3.5265378727162267), ('whale', 10.488400708839677), ('wings', 11.56895385650731), ('worthies', 3.177492310475846)]\n"
     ]
    }
   ],
   "source": [
    "all_train_features = cv\n",
    "\n",
    "indexes = selector.get_support(indices=True)\n",
    "scores = selector.scores_\n",
    "feature_names = all_train_features#selector.get_feature_names_out()\n",
    "print(len(scores), train_vector.shape[1])\n",
    "print(\"\\n\")\n",
    "print (\"Total number of features selected: \", len(indexes))\n",
    "\n",
    "#Finding informativeness of all the features\n",
    "informative_features = []\n",
    "for index in indexes:\n",
    "    informative_features.append((cv.get_feature_names()[index],scores[index])) \n",
    "\n",
    "# Printing all of the features with increment of 40    \n",
    "print(\"\\n\")\n",
    "print(\"Informative features: \",informative_features[0::40])"
   ]
  },
  {
   "cell_type": "code",
   "execution_count": 35,
   "id": "f8600385",
   "metadata": {},
   "outputs": [
    {
     "name": "stdout",
     "output_type": "stream",
     "text": [
      "Accuracy score:  0.7490010897203051\n"
     ]
    }
   ],
   "source": [
    "# define true labels from train set\n",
    "x_train = X_train_features_filtered_kbest\n",
    "y_train = df_train[\"Label\"]\n",
    "x_test = X_test_features_filtered_kbest\n",
    "y_test = df_test[\"Label\"]\n",
    "\n",
    "# fit model and test on trai\n",
    "\n",
    "\n",
    "model = MultinomialNB()\n",
    "model.fit(x_train, y_train)\n",
    "predictions = model.predict(x_test)\n",
    "print (\"Accuracy score: \", accuracy_score(y_test, predictions))"
   ]
  },
  {
   "cell_type": "code",
   "execution_count": 36,
   "id": "409f207f",
   "metadata": {},
   "outputs": [
    {
     "name": "stdout",
     "output_type": "stream",
     "text": [
      "Precision score:  0.7517381545104375\n",
      "Recall score:  0.7490010897203051\n",
      "F1 score:  0.7477248406748069\n"
     ]
    }
   ],
   "source": [
    "# For average = WEIGHTED\n",
    "print (\"Precision score: \", precision_score(y_test, predictions, average = 'weighted'))\n",
    "print (\"Recall score: \", recall_score(y_test, predictions, average = 'weighted'))\n",
    "print (\"F1 score: \", f1_score(y_test, predictions, average = 'weighted'))"
   ]
  },
  {
   "cell_type": "markdown",
   "id": "35530d1a",
   "metadata": {},
   "source": [
    "#### top k-best features using information gain (mutual information)"
   ]
  },
  {
   "cell_type": "code",
   "execution_count": 37,
   "id": "05fc4911",
   "metadata": {},
   "outputs": [
    {
     "name": "stdout",
     "output_type": "stream",
     "text": [
      "Train feature space before filtering:  (23089, 17068)\n",
      "Train feature space after filtering:  (23089, 17068)\n",
      "Test feature space before filtering:  (2753, 17068)\n",
      "Test feature space after filtering:  (2753, 17068)\n"
     ]
    }
   ],
   "source": [
    "from sklearn.feature_selection import SelectKBest, mutual_info_classif\n",
    "\n",
    "selector = SelectKBest(mutual_info_classif, k='all')\n",
    "X_train_features_filtered_kbest = selector.fit_transform(train_vector, y_train)\n",
    "print (\"Train feature space before filtering: \", train_vector.shape)\n",
    "print (\"Train feature space after filtering: \", X_train_features_filtered_kbest.shape)\n",
    "\n",
    "\n",
    "X_test_features_filtered_kbest = selector.transform(test_vector)\n",
    "print (\"Test feature space before filtering: \", test_vector.shape)\n",
    "print (\"Test feature space after filtering: \", X_test_features_filtered_kbest.shape)"
   ]
  },
  {
   "cell_type": "code",
   "execution_count": 38,
   "id": "28e20f37",
   "metadata": {},
   "outputs": [
    {
     "name": "stdout",
     "output_type": "stream",
     "text": [
      "17068 17068\n",
      "\n",
      "\n",
      "Total number of features selected:  17068\n",
      "\n",
      "\n",
      "Informative features:  [('000', 0.00019664352430067247), ('accidents', 0.00011679184912301034), ('amethysts', 3.963313945708625e-05), ('asks', 6.192472413586096e-05), ('bearded', 4.4234643337808357e-05), ('bounded', 2.570384246491095e-05), ('capes', 2.8548037012295123e-05), ('chop', 4.611615756216982e-05), ('compensate', 8.847262014694901e-05), ('coral', 0.00010235656441370453), ('danes', 3.963313945708625e-05), ('deviation', 6.719316630501284e-05), ('dragonnier', 4.4234643337808357e-05), ('encountered', 6.192472413586096e-05), ('exotic', 4.4234643337808357e-05), ('fight', 0.0007847582696267267), ('francisco', 6.0144146181318934e-05), ('gnawed', 2.7589810939393175e-05), ('hatch', 4.4234643337808357e-05), ('humour', 6.192472413586096e-05), ('inevitable', 4.615110903906036e-05), ('israelites', 0.00013271393097398477), ('laying', 0.0001640115623815666), ('macciota', 4.4234643337808357e-05), ('mercy', 0.003803938505259309), ('mushrooms', 7.492100079962326e-05), ('oblivion', 6.192472413586096e-05), ('palisades', 0.00011081516247504026), ('phosphorescent', 1.2917276967321241e-05), ('pours', 6.192472413586096e-05), ('public', 0.00012234950103656326), ('recognise', 0.00012455901623366003), ('resplendently', 4.4234643337808357e-05), ('sacrificed', 4.765153548876629e-05), ('senegal', 8.847262014694901e-05), ('skilled', 4.4234643337808357e-05), ('spoil', 4.151465368150322e-05), ('sturdy', 2.3499678887587815e-05), ('task', 0.00012339475620204367), ('touching', 0.00012005085350136368), ('undeniable', 8.847262014694901e-05), ('vestiges', 3.963313945708625e-05), ('wholesome', 3.041984801808366e-06)]\n"
     ]
    }
   ],
   "source": [
    "all_train_features = cv\n",
    "\n",
    "indexes = selector.get_support(indices=True)\n",
    "scores = selector.scores_\n",
    "feature_names = all_train_features#selector.get_feature_names_out()\n",
    "print(len(scores), train_vector.shape[1])\n",
    "print(\"\\n\")\n",
    "print (\"Total number of features selected: \", len(indexes))\n",
    "\n",
    "\n",
    "#Finding informativeness of all the features\n",
    "informative_features = []\n",
    "for index in indexes:\n",
    "    informative_features.append((cv.get_feature_names()[index],scores[index])) \n",
    "\n",
    "# Printing all of the features with increment of 40    \n",
    "print(\"\\n\")\n",
    "print(\"Informative features: \",informative_features[0::400])"
   ]
  },
  {
   "cell_type": "code",
   "execution_count": 39,
   "id": "dcf403df",
   "metadata": {},
   "outputs": [
    {
     "name": "stdout",
     "output_type": "stream",
     "text": [
      "Accuracy score:  0.7134035597529967\n"
     ]
    }
   ],
   "source": [
    "# define true labels from train set\n",
    "x_train = X_train_features_filtered_kbest\n",
    "y_train = df_train[\"Label\"]\n",
    "x_test = X_test_features_filtered_kbest\n",
    "y_test = df_test[\"Label\"]\n",
    "\n",
    "# fit model and test on trai\n",
    "\n",
    "\n",
    "model = MultinomialNB()\n",
    "model.fit(x_train, y_train)\n",
    "predictions = model.predict(x_test)\n",
    "print (\"Accuracy score: \", accuracy_score(y_test, predictions))"
   ]
  },
  {
   "cell_type": "code",
   "execution_count": 40,
   "id": "ba546e22",
   "metadata": {},
   "outputs": [
    {
     "name": "stdout",
     "output_type": "stream",
     "text": [
      "Precision score:  0.7178708065297873\n",
      "Recall score:  0.7134035597529967\n",
      "F1 score:  0.711875228116898\n"
     ]
    }
   ],
   "source": [
    "# For average = WEIGHTED\n",
    "print (\"Precision score: \", precision_score(y_test, predictions, average = 'weighted'))\n",
    "print (\"Recall score: \", recall_score(y_test, predictions, average = 'weighted'))\n",
    "print (\"F1 score: \", f1_score(y_test, predictions, average = 'weighted'))"
   ]
  },
  {
   "cell_type": "code",
   "execution_count": 41,
   "id": "db551b15",
   "metadata": {},
   "outputs": [
    {
     "name": "stdout",
     "output_type": "stream",
     "text": [
      "Train feature space before filtering:  (23089, 17068)\n",
      "Train feature space after filtering:  (23089, 1000)\n",
      "Test feature space before filtering:  (2753, 17068)\n",
      "Test feature space after filtering:  (2753, 1000)\n"
     ]
    }
   ],
   "source": [
    "selector = SelectKBest(mutual_info_classif, k=1000)\n",
    "X_train_features_filtered_kbest = selector.fit_transform(train_vector, y_train)\n",
    "print (\"Train feature space before filtering: \", train_vector.shape)\n",
    "print (\"Train feature space after filtering: \", X_train_features_filtered_kbest.shape)\n",
    "\n",
    "\n",
    "X_test_features_filtered_kbest = selector.transform(test_vector)\n",
    "print (\"Test feature space before filtering: \", test_vector.shape)\n",
    "print (\"Test feature space after filtering: \", X_test_features_filtered_kbest.shape)"
   ]
  },
  {
   "cell_type": "code",
   "execution_count": 42,
   "id": "12c3ed72",
   "metadata": {},
   "outputs": [
    {
     "name": "stdout",
     "output_type": "stream",
     "text": [
      "17068 17068\n",
      "\n",
      "\n",
      "Total number of features selected:  1000\n",
      "\n",
      "\n",
      "Informative features:  [('abandoned', 0.0009075773811769664), ('among', 0.0007621984047898021), ('bank', 0.00040079047440804), ('broke', 0.0012335746446016393), ('columns', 0.0002935691512153299), ('dazzling', 0.0008173905882450157), ('disappeared', 0.003216275887849054), ('enemies', 0.0004480174947779716), ('failure', 0.0002915243038910063), ('fish', 0.0005653979559597092), ('god', 0.0006099522800201148), ('hesitate', 0.0006540345674751857), ('indeed', 0.0003133661403603026), ('leagues', 0.0003463417758651842), ('many', 0.0007850142045683186), ('nearing', 0.0003283717671786302), ('painful', 0.0013743890350023527), ('precious', 0.0017213787321073352), ('rage', 0.0009258646493617498), ('safe', 0.0008173905882450157), ('sigh', 0.00026837318962841304), ('stranger', 0.00026725211314956843), ('tears', 0.00039087966034559863), ('uncle', 0.0002734252957858946), ('wealth', 0.0003539705144401193)]\n"
     ]
    }
   ],
   "source": [
    "all_train_features = cv\n",
    "\n",
    "indexes = selector.get_support(indices=True)\n",
    "scores = selector.scores_\n",
    "feature_names = all_train_features#selector.get_feature_names_out()\n",
    "print(len(scores), train_vector.shape[1])\n",
    "print(\"\\n\")\n",
    "print (\"Total number of features selected: \", len(indexes))\n",
    "\n",
    "\n",
    "#Finding informativeness of all the features\n",
    "informative_features = []\n",
    "for index in indexes:\n",
    "    informative_features.append((cv.get_feature_names()[index],scores[index])) \n",
    "\n",
    "# Printing all of the features with increment of 40    \n",
    "print(\"\\n\")\n",
    "print(\"Informative features: \",informative_features[0::40])"
   ]
  },
  {
   "cell_type": "code",
   "execution_count": 43,
   "id": "cf7836a3",
   "metadata": {},
   "outputs": [
    {
     "name": "stdout",
     "output_type": "stream",
     "text": [
      "Accuracy score:  0.7791500181620051\n"
     ]
    }
   ],
   "source": [
    "# define true labels from train set\n",
    "x_train = X_train_features_filtered_kbest\n",
    "y_train = df_train[\"Label\"]\n",
    "x_test = X_test_features_filtered_kbest\n",
    "y_test = df_test[\"Label\"]\n",
    "\n",
    "# fit model and test on trai\n",
    "\n",
    "\n",
    "model = MultinomialNB()\n",
    "model.fit(x_train, y_train)\n",
    "predictions = model.predict(x_test)\n",
    "print (\"Accuracy score: \", accuracy_score(y_test, predictions))"
   ]
  },
  {
   "cell_type": "code",
   "execution_count": 44,
   "id": "71665edf",
   "metadata": {},
   "outputs": [
    {
     "name": "stdout",
     "output_type": "stream",
     "text": [
      "Precision score:  0.7809343464895393\n",
      "Recall score:  0.7791500181620051\n",
      "F1 score:  0.7776538240890853\n"
     ]
    }
   ],
   "source": [
    "# For average = WEIGHTED\n",
    "print (\"Precision score: \", precision_score(y_test, predictions, average = 'weighted'))\n",
    "print (\"Recall score: \", recall_score(y_test, predictions, average = 'weighted'))\n",
    "print (\"F1 score: \", f1_score(y_test, predictions, average = 'weighted'))"
   ]
  },
  {
   "cell_type": "code",
   "execution_count": 45,
   "id": "a26932ee",
   "metadata": {},
   "outputs": [
    {
     "name": "stdout",
     "output_type": "stream",
     "text": [
      "Train feature space before filtering:  (23089, 17068)\n",
      "Train feature space after filtering:  (23089, 5000)\n",
      "Test feature space before filtering:  (2753, 17068)\n",
      "Test feature space after filtering:  (2753, 5000)\n"
     ]
    }
   ],
   "source": [
    "selector = SelectKBest(mutual_info_classif, k=5000)\n",
    "X_train_features_filtered_kbest = selector.fit_transform(train_vector, y_train)\n",
    "print (\"Train feature space before filtering: \", train_vector.shape)\n",
    "print (\"Train feature space after filtering: \", X_train_features_filtered_kbest.shape)\n",
    "\n",
    "\n",
    "X_test_features_filtered_kbest = selector.transform(test_vector)\n",
    "print (\"Test feature space before filtering: \", test_vector.shape)\n",
    "print (\"Test feature space after filtering: \", X_test_features_filtered_kbest.shape)"
   ]
  },
  {
   "cell_type": "code",
   "execution_count": 46,
   "id": "ad1e4212",
   "metadata": {},
   "outputs": [
    {
     "name": "stdout",
     "output_type": "stream",
     "text": [
      "17068 17068\n",
      "\n",
      "\n",
      "Total number of features selected:  5000\n",
      "\n",
      "\n",
      "Informative features:  [('000', 0.00019664352430067247), ('9th', 0.00014211412362858896), ('accustomed', 0.0002526704599753872), ('advice', 0.0002553893566084901), ('allowed', 0.00012371221530067887), ('anger', 0.0009197525593862721), ('applauded', 9.721258547834246e-05), ('arriving', 9.688463579747596e-05), ('atlas', 0.0001104697327908204), ('awkward', 0.0002477346722230848), ('basalt', 8.815652519545336e-05), ('beheld', 9.223785820283606e-05), ('black', 0.00016657636564632072), ('bone', 8.041143119486677e-05), ('bread', 0.0001743607565391738), ('build', 0.00014509667843034288), ('cannibal', 8.847262014694901e-05), ('castle', 9.721258547834246e-05), ('chair', 9.080553448328923e-05), ('cinnamon', 8.847262014694901e-05), ('club', 0.002069510560233155), ('comet', 0.00014472355136925757), ('conceptions', 8.847262014694901e-05), ('consequences', 0.00019582334240472515), ('contrivances', 8.880346647791417e-05), ('countrymen', 0.000176958576360982), ('crows', 8.847262014694901e-05), ('dance', 9.223785820283606e-05), ('declivity', 8.041143119486677e-05), ('depart', 8.538274111375446e-05), ('detained', 0.0001279991287366664), ('diminished', 0.00012013513337515852), ('displaced', 8.146813684594122e-05), ('doubtfully', 0.00013271393097398477), ('dugong', 0.00011759399173782558), ('effects', 0.00012022319161963469), ('emotion', 0.00017817165940699166), ('enlightened', 0.00013271393097398477), ('escaping', 0.00010733041303310315), ('excessive', 8.433122844385453e-05), ('extend', 0.0005993310050126542), ('fantastic', 0.0006638699128540667), ('feeds', 8.847262014694901e-05), ('fingers', 0.0001599857443688468), ('florida', 0.00014043627089929), ('fork', 9.223785820283606e-05), ('freely', 0.0005637557256251696), ('furrows', 0.00015071505764195398), ('geyser', 0.0001633242603744418), ('gourds', 8.30343253352666e-05), ('groaning', 0.0001857920589110277), ('hallucination', 0.00020059897320049563), ('hatred', 0.0006195156793994045), ('herbs', 8.132226331328762e-05), ('hole', 0.00014210869117254807), ('humors', 9.188909411619547e-05), ('illuminating', 0.000176958576360982), ('imprudence', 0.0003716377973904013), ('inducing', 0.00010155598769856294), ('inst', 0.0001238554099933938), ('intervention', 0.00011614212835714204), ('james', 0.0001636630196252337), ('keenly', 0.0001353394206389611), ('lagoon', 0.00013271393097398477), ('learned', 0.00043985637482436054), ('likes', 0.0002212065568538374), ('looking', 8.017479971856624e-05), ('maelstrom', 0.00020042025804466851), ('many', 0.0007850142045683186), ('means', 0.0003459095991952821), ('miles', 0.0005093025732045447), ('mollusc', 8.146813684594122e-05), ('mounted', 0.00014771544545336677), ('namely', 0.0002212065568538374), ('neighbourhood', 8.847262014694901e-05), ('notions', 0.000176958576360982), ('occurrence', 9.721258547834246e-05), ('orb', 0.00017143994446038708), ('palaces', 8.847262014694901e-05), ('pause', 0.00011890784389364932), ('periods', 8.880346647791417e-05), ('pickled', 8.847262014694901e-05), ('plants', 0.00016943552398664824), ('poor', 0.0027889739900073206), ('predominating', 8.847262014694901e-05), ('prisoner', 0.0008433611531664656), ('propelling', 0.00013271393097398477), ('pupil', 0.00012103777987946374), ('raft', 0.0002411266155059079), ('really', 0.00039307152581657934), ('reduce', 0.00014986356320896641), ('religious', 0.000176958576360982), ('requesting', 8.07812372330323e-05), ('returning', 0.00010374988332219944), ('road', 0.000315933712289449), ('rushes', 8.847262014694901e-05), ('savory', 0.0002212065568538374), ('screws', 9.080553448328923e-05), ('selenite', 0.00010138119721919074), ('shadow', 0.00014700078353132554), ('shoot', 9.721258547834246e-05), ('since', 0.0004759337034754049), ('small', 0.0003433514556127371), ('solutions', 8.847262014694901e-05), ('sparks', 0.00023968174241725988), ('spotted', 8.847262014694901e-05), ('sticks', 0.00011765007272405921), ('striking', 0.0001167856883222732), ('submitted', 8.952238381220888e-05), ('summit', 0.0004730314543772811), ('suspects', 8.847262014694901e-05), ('talker', 8.847262014694901e-05), ('terribly', 0.00010613711594946278), ('threaten', 0.0001238554099933938), ('topsails', 8.847262014694901e-05), ('treatment', 8.952270765730968e-05), ('tulip', 8.538274111375446e-05), ('undoubted', 0.00011890784389364932), ('unsuccessful', 0.0001857920589110277), ('variation', 8.847262014694901e-05), ('vines', 0.000176958576360982), ('wants', 9.970223753061607e-05), ('weighted', 8.07812372330323e-05), ('windmill', 0.00013271393097398477), ('worst', 0.000817678959462112)]\n"
     ]
    }
   ],
   "source": [
    "all_train_features = cv\n",
    "\n",
    "indexes = selector.get_support(indices=True)\n",
    "scores = selector.scores_\n",
    "feature_names = all_train_features#selector.get_feature_names_out()\n",
    "print(len(scores), train_vector.shape[1])\n",
    "print(\"\\n\")\n",
    "print (\"Total number of features selected: \", len(indexes))\n",
    "\n",
    "\n",
    "#Finding informativeness of all the features\n",
    "informative_features = []\n",
    "for index in indexes:\n",
    "    informative_features.append((cv.get_feature_names()[index],scores[index])) \n",
    "\n",
    "# Printing all of the features with increment of 40    \n",
    "print(\"\\n\")\n",
    "print(\"Informative features: \",informative_features[0::40])"
   ]
  },
  {
   "cell_type": "code",
   "execution_count": 48,
   "id": "eeb0f2ae",
   "metadata": {},
   "outputs": [
    {
     "name": "stdout",
     "output_type": "stream",
     "text": [
      "Accuracy score:  0.737740646567381\n"
     ]
    }
   ],
   "source": [
    "# define true labels from train set\n",
    "x_train = X_train_features_filtered_kbest\n",
    "y_train = df_train[\"Label\"]\n",
    "x_test = X_test_features_filtered_kbest\n",
    "y_test = df_test[\"Label\"]\n",
    "\n",
    "# fit model and test on trai\n",
    "\n",
    "\n",
    "model = MultinomialNB()\n",
    "model.fit(x_train, y_train)\n",
    "predictions = model.predict(x_test)\n",
    "print (\"Accuracy score: \", accuracy_score(y_test, predictions))"
   ]
  },
  {
   "cell_type": "code",
   "execution_count": 49,
   "id": "990945af",
   "metadata": {},
   "outputs": [
    {
     "name": "stdout",
     "output_type": "stream",
     "text": [
      "Precision score:  0.7406946436501879\n",
      "Recall score:  0.737740646567381\n",
      "F1 score:  0.7364409140404549\n"
     ]
    }
   ],
   "source": [
    "# For average = WEIGHTED\n",
    "print (\"Precision score: \", precision_score(y_test, predictions, average = 'weighted'))\n",
    "print (\"Recall score: \", recall_score(y_test, predictions, average = 'weighted'))\n",
    "print (\"F1 score: \", f1_score(y_test, predictions, average = 'weighted'))"
   ]
  },
  {
   "cell_type": "code",
   "execution_count": 50,
   "id": "789baba3",
   "metadata": {},
   "outputs": [],
   "source": [
    "# Reading positive words list from text file\n",
    "pos_words=pd.read_csv('positive_words_list.txt', sep=' ', header=None)\n",
    "# Converting pandas dataframe to list\n",
    "pos = pos_words[0].to_list()\n",
    "# Reading negative words list from text file\n",
    "neg_words=pd.read_csv('negative_words_list.txt', sep=' ', header=None)\n",
    "# Converting pandas dataframe to list\n",
    "neg = neg_words[0].to_list()\n",
    "# Concatinating two lists and sorting alphabetically\n",
    "vocab = pos + neg\n",
    "vocab.sort()\n",
    "# Removing duplicate words from list\n",
    "final_vocab = []\n",
    "for i in vocab:\n",
    "    if i not in final_vocab:\n",
    "        final_vocab.append(i)"
   ]
  },
  {
   "cell_type": "code",
   "execution_count": 51,
   "id": "32f266d5",
   "metadata": {},
   "outputs": [],
   "source": [
    "train_proc_review = df_train['StopwordRemovedSentence']\n",
    "test_proc_review = df_test['StopwordRemovedSentence']\n",
    "\n",
    "\n",
    "# Feeding custom vocabulary to the count vectorizer with unigrams\n",
    "cv = CountVectorizer(ngram_range = [1,1], vocabulary = final_vocab) #for unigrams"
   ]
  },
  {
   "cell_type": "code",
   "execution_count": 52,
   "id": "e4885abd",
   "metadata": {},
   "outputs": [
    {
     "name": "stdout",
     "output_type": "stream",
     "text": [
      "Train Vector Shape: (23089, 6786)\n",
      "Test Vector Shape: (2753, 6786)\n"
     ]
    }
   ],
   "source": [
    "# Fitting vectorizer to the train and test dataset\n",
    "\n",
    "train_vector = cv.fit_transform(train_proc_review)\n",
    "print(\"Train Vector Shape:\",train_vector.shape)\n",
    "\n",
    "test_vector = cv.transform(test_proc_review)\n",
    "print(\"Test Vector Shape:\", test_vector.shape)"
   ]
  },
  {
   "cell_type": "code",
   "execution_count": 53,
   "id": "d117c302",
   "metadata": {},
   "outputs": [
    {
     "name": "stdout",
     "output_type": "stream",
     "text": [
      "Train feature space before filtering:  (23089, 6786)\n",
      "Train feature space after filtering:  (23089, 6786)\n",
      "Test feature space before filtering:  (2753, 6786)\n",
      "Test feature space after filtering:  (2753, 6786)\n"
     ]
    }
   ],
   "source": [
    "selector = SelectKBest(chi2, k='all')\n",
    "X_train_features_filtered_kbest = selector.fit_transform(train_vector, y_train)\n",
    "print (\"Train feature space before filtering: \", train_vector.shape)\n",
    "print (\"Train feature space after filtering: \", X_train_features_filtered_kbest.shape)\n",
    "\n",
    "\n",
    "X_test_features_filtered_kbest = selector.transform(test_vector)\n",
    "print (\"Test feature space before filtering: \", test_vector.shape)\n",
    "print (\"Test feature space after filtering: \", X_test_features_filtered_kbest.shape)"
   ]
  },
  {
   "cell_type": "code",
   "execution_count": 54,
   "id": "76fbbd36",
   "metadata": {},
   "outputs": [
    {
     "name": "stdout",
     "output_type": "stream",
     "text": [
      "6786 6786\n",
      "\n",
      "\n",
      "Total number of features selected:  6786\n",
      "\n",
      "\n",
      "Informative features:  [('2-faced', nan), ('ax', 1.3372051149005162), ('caustically', nan), ('damaged', 3.4955860591872763), ('discourage', nan), ('energetic', 14.530263580469146), ('firmer', 1.7767889356584488), ('hallmark', nan), ('impulsive', 3.2921481828504704), ('irresolvable', nan), ('menace', 1.477140623067147), ('overdue', nan), ('pugnacity', nan), ('safe', 35.61492770300717), ('sour', 1.477140623067147), ('tenaciously', nan), ('unrelentingly', nan)]\n"
     ]
    }
   ],
   "source": [
    "all_train_features = cv\n",
    "\n",
    "indexes = selector.get_support(indices=True)\n",
    "scores = selector.scores_\n",
    "feature_names = all_train_features#selector.get_feature_names_out()\n",
    "print(len(scores), train_vector.shape[1])\n",
    "print(\"\\n\")\n",
    "print (\"Total number of features selected: \", len(indexes))\n",
    "\n",
    "\n",
    "#Finding informativeness of all the features\n",
    "informative_features = []\n",
    "for index in indexes:\n",
    "    informative_features.append((cv.get_feature_names()[index],scores[index])) \n",
    "\n",
    "# Printing all of the features with increment of 400    \n",
    "print(\"\\n\")\n",
    "print(\"Informative features: \",informative_features[0::400])"
   ]
  },
  {
   "cell_type": "code",
   "execution_count": 56,
   "id": "1c0f7aae",
   "metadata": {},
   "outputs": [
    {
     "name": "stdout",
     "output_type": "stream",
     "text": [
      "Accuracy score:  0.7021431166000727\n"
     ]
    }
   ],
   "source": [
    "# define true labels from train set\n",
    "x_train = X_train_features_filtered_kbest\n",
    "y_train = df_train[\"Label\"]\n",
    "x_test = X_test_features_filtered_kbest\n",
    "y_test = df_test[\"Label\"]\n",
    "\n",
    "# fit model and test on trai\n",
    "\n",
    "\n",
    "model = MultinomialNB()\n",
    "model.fit(x_train, y_train)\n",
    "predictions = model.predict(x_test)\n",
    "print (\"Accuracy score: \", accuracy_score(y_test, predictions))"
   ]
  },
  {
   "cell_type": "code",
   "execution_count": 57,
   "id": "cc7af5ea",
   "metadata": {},
   "outputs": [
    {
     "name": "stdout",
     "output_type": "stream",
     "text": [
      "Precision score:  0.7343152189428906\n",
      "Recall score:  0.7021431166000727\n",
      "F1 score:  0.6970377882606712\n"
     ]
    }
   ],
   "source": [
    "# For average = WEIGHTED\n",
    "print (\"Precision score: \", precision_score(y_test, predictions, average = 'weighted'))\n",
    "print (\"Recall score: \", recall_score(y_test, predictions, average = 'weighted'))\n",
    "print (\"F1 score: \", f1_score(y_test, predictions, average = 'weighted'))"
   ]
  },
  {
   "cell_type": "code",
   "execution_count": 58,
   "id": "505664a6",
   "metadata": {},
   "outputs": [
    {
     "name": "stdout",
     "output_type": "stream",
     "text": [
      "Train feature space before filtering:  (23089, 6786)\n",
      "Train feature space after filtering:  (23089, 1000)\n",
      "Test feature space before filtering:  (2753, 6786)\n",
      "Test feature space after filtering:  (2753, 1000)\n"
     ]
    }
   ],
   "source": [
    "selector = SelectKBest(chi2, k=1000)\n",
    "X_train_features_filtered_kbest = selector.fit_transform(train_vector, y_train)\n",
    "print (\"Train feature space before filtering: \", train_vector.shape)\n",
    "print (\"Train feature space after filtering: \", X_train_features_filtered_kbest.shape)\n",
    "\n",
    "\n",
    "X_test_features_filtered_kbest = selector.transform(test_vector)\n",
    "print (\"Test feature space before filtering: \", test_vector.shape)\n",
    "print (\"Test feature space after filtering: \", X_test_features_filtered_kbest.shape)"
   ]
  },
  {
   "cell_type": "code",
   "execution_count": 59,
   "id": "855474c5",
   "metadata": {},
   "outputs": [
    {
     "name": "stdout",
     "output_type": "stream",
     "text": [
      "6786 6786\n",
      "\n",
      "\n",
      "Total number of features selected:  1000\n",
      "\n",
      "\n",
      "Informative features:  [('absence', 3.696569037965878), ('anxiety', 42.380979569926275), ('betray', 8.923333180654398), ('charming', 33.75898977751052), ('cool', 17.39915329121208), ('denied', 14.880930301826986), ('disorder', 25.419938483806767), ('energetic', 14.530263580469146), ('fairly', 5.3771442732179775), ('foolish', 9.50635192921856), ('glory', 21.32146722790138), ('hazard', 6.354984620951692), ('impatient', 38.94370150586465), ('insane', 3.4955860591872763), ('leading', 8.343899245796907), ('masterpiece', 10.66073361395069), ('obstruction', 6.354984620951692), ('powerless', 17.93423901862186), ('recoil', 4.18976536873976), ('rocky', 4.374754120266103), ('sinking', 5.257723908300642), ('strongest', 3.5535778713168975), ('suspicion', 8.923333180654398), ('troubled', 43.71689860320794), ('vomiting', 3.5742275298532498)]\n"
     ]
    }
   ],
   "source": [
    "all_train_features = cv\n",
    "\n",
    "indexes = selector.get_support(indices=True)\n",
    "scores = selector.scores_\n",
    "feature_names = all_train_features#selector.get_feature_names_out()\n",
    "print(len(scores), train_vector.shape[1])\n",
    "print(\"\\n\")\n",
    "print (\"Total number of features selected: \", len(indexes))\n",
    "\n",
    "\n",
    "#Finding informativeness of all the features\n",
    "informative_features = []\n",
    "for index in indexes:\n",
    "    informative_features.append((cv.get_feature_names()[index],scores[index])) \n",
    "\n",
    "# Printing all of the features with increment of 40    \n",
    "print(\"\\n\")\n",
    "print(\"Informative features: \",informative_features[0::40])"
   ]
  },
  {
   "cell_type": "code",
   "execution_count": 61,
   "id": "7adb25cc",
   "metadata": {},
   "outputs": [
    {
     "name": "stdout",
     "output_type": "stream",
     "text": [
      "Accuracy score:  0.683617871413004\n"
     ]
    }
   ],
   "source": [
    "# define true labels from train set\n",
    "x_train = X_train_features_filtered_kbest\n",
    "y_train = df_train[\"Label\"]\n",
    "x_test = X_test_features_filtered_kbest\n",
    "y_test = df_test[\"Label\"]\n",
    "\n",
    "# fit model and test on trai\n",
    "\n",
    "\n",
    "model = MultinomialNB()\n",
    "model.fit(x_train, y_train)\n",
    "predictions = model.predict(x_test)\n",
    "print (\"Accuracy score: \", accuracy_score(y_test, predictions))"
   ]
  },
  {
   "cell_type": "code",
   "execution_count": 62,
   "id": "f7977e58",
   "metadata": {},
   "outputs": [
    {
     "name": "stdout",
     "output_type": "stream",
     "text": [
      "Precision score:  0.7493431872016411\n",
      "Recall score:  0.683617871413004\n",
      "F1 score:  0.6751972125284392\n"
     ]
    }
   ],
   "source": [
    "# For average = WEIGHTED\n",
    "print (\"Precision score: \", precision_score(y_test, predictions, average = 'weighted'))\n",
    "print (\"Recall score: \", recall_score(y_test, predictions, average = 'weighted'))\n",
    "print (\"F1 score: \", f1_score(y_test, predictions, average = 'weighted'))"
   ]
  },
  {
   "cell_type": "code",
   "execution_count": 63,
   "id": "59369e1f",
   "metadata": {},
   "outputs": [
    {
     "name": "stdout",
     "output_type": "stream",
     "text": [
      "Train feature space before filtering:  (23089, 6786)\n",
      "Train feature space after filtering:  (23089, 5000)\n",
      "Test feature space before filtering:  (2753, 6786)\n",
      "Test feature space after filtering:  (2753, 5000)\n"
     ]
    }
   ],
   "source": [
    "selector = SelectKBest(chi2, k=5000)\n",
    "X_train_features_filtered_kbest = selector.fit_transform(train_vector, y_train)\n",
    "print (\"Train feature space before filtering: \", train_vector.shape)\n",
    "print (\"Train feature space after filtering: \", X_train_features_filtered_kbest.shape)\n",
    "\n",
    "\n",
    "X_test_features_filtered_kbest = selector.transform(test_vector)\n",
    "print (\"Test feature space before filtering: \", test_vector.shape)\n",
    "print (\"Test feature space after filtering: \", X_test_features_filtered_kbest.shape)"
   ]
  },
  {
   "cell_type": "code",
   "execution_count": 64,
   "id": "d084613e",
   "metadata": {},
   "outputs": [
    {
     "name": "stdout",
     "output_type": "stream",
     "text": [
      "6786 6786\n",
      "\n",
      "\n",
      "Total number of features selected:  5000\n",
      "\n",
      "\n",
      "Informative features:  [('abnormal', 1.7767889356584488), ('advantageously', 0.6368534274918176), ('amiable', 3.015903072245234), ('approval', 3.5535778713168975), ('awe', 0.8505859162354883), ('bitter', 25.419938483806767), ('brilliance', 5.330366806975345), ('celebrated', 26.651834034876728), ('coldly', 8.178551022852773), ('congested', 6.354984620951692), ('crack', 1.7767889356584488), ('damaged', 3.4955860591872763), ('degenerate', 1.7767889356584488), ('desperate', 28.975017133273553), ('disable', 1.7767889356584488), ('distaste', 3.177492310475846), ('dynamic', 1.5346912206529932), ('enemy', 37.494766911783515), ('exceed', 0.22303411238730753), ('fabrication', 1.5346912206529932), ('fatigued', 11.822370946870219), ('flee', 1.3372051149005162), ('freeze', 1.3372051149005162), ('gasp', 0.15039972181982697), ('graciously', 2.3122625523962825), ('gusto', 5.330366806975345), ('harassment', nan), ('hasty', 3.5742275298532498), ('heavenly', 3.5535778713168975), ('high-priced', nan), ('horrify', nan), ('hype', nan), ('ill-mannered', nan), ('immoderate', nan), ('impious', nan), ('improperly', nan), ('inattentive', nan), ('inconsistence', nan), ('indiscreetly', nan), ('inessential', nan), ('inflammed', nan), ('innovation', nan), ('inspiring', nan), ('interferes', nan), ('invidiousness', nan), ('irredeemably', nan), ('jam', 3.177492310475846), ('judders', nan), ('lag', nan), ('lawlessness', nan), ('liars', nan), ('logical', 0.3772648579040804), ('low-priced', nan), ('mad', 84.81062384671216), ('mangling', nan), ('meager', 3.4022957204095228), ('messy', nan), ('miserableness', nan), ('mistified', nan), ('morbidly', nan), ('nag', nan), ('neurotic', nan), ('num', nan), ('occluded', nan), ('oppressors', nan), ('over-balanced', nan), ('overstates', nan), ('pandering', nan), ('payback', nan), ('persecution', nan), ('pigs', 1.3711125051640738), ('plush', nan), ('praise', 7.107155742633795), ('pretentious', nan), ('profoundly', 0.449831503874447), ('proven', nan), ('quarrels', nan), ('rapid', 2.9515253926526532), ('recessionary', nan), ('refuses', nan), ('relief', 6.150736716312375), ('repugnance', 0.6368534274918176), ('restructured', nan), ('reward', 7.107155742633795), ('rival', 3.188425742317418), ('rusts', nan), ('satisfactorily', 1.4969179193251867), ('scathing', nan), ('second-tier', nan), ('seriousness', nan), ('shirk', nan), ('silly', 3.177492310475846), ('slanders', nan), ('sly', 1.7767889356584488), ('smuttiest', nan), ('somber', 26.769999541963184), ('spiteful', nan), ('squealing', nan), ('steadiness', 1.4969179193251867), ('straggle', nan), ('stubborn', 6.354984620951692), ('subdued', 1.5346912206529932), ('sueing', nan), ('supple', 1.3331021301454138), ('sweetness', nan), ('tawdry', nan), ('thankful', nan), ('time-consuming', nan), ('totalitarian', nan), ('treachery', 3.177492310475846), ('tumble', 1.7767889356584488), ('unattractive', nan), ('undercut', nan), ('unexplained', 1.7767889356584488), ('unjustified', nan), ('unproves', nan), ('unspecified', nan), ('unworkable', nan), ('vagueness', nan), ('victimize', nan), ('vomit', 3.177492310475846), ('weaker', 1.4969179193251867), ('whips', nan), ('womanizer', nan), ('wowed', nan)]\n"
     ]
    }
   ],
   "source": [
    "all_train_features = cv\n",
    "\n",
    "indexes = selector.get_support(indices=True)\n",
    "scores = selector.scores_\n",
    "feature_names = all_train_features#selector.get_feature_names_out()\n",
    "print(len(scores), train_vector.shape[1])\n",
    "print(\"\\n\")\n",
    "print (\"Total number of features selected: \", len(indexes))\n",
    "\n",
    "\n",
    "#Finding informativeness of all the features\n",
    "informative_features = []\n",
    "for index in indexes:\n",
    "    informative_features.append((cv.get_feature_names()[index],scores[index])) \n",
    "\n",
    "# Printing all of the features with increment of 40    \n",
    "print(\"\\n\")\n",
    "print(\"Informative features: \",informative_features[0::40])"
   ]
  },
  {
   "cell_type": "code",
   "execution_count": 65,
   "id": "2be6e13b",
   "metadata": {},
   "outputs": [
    {
     "name": "stdout",
     "output_type": "stream",
     "text": [
      "Accuracy score:  0.7021431166000727\n"
     ]
    }
   ],
   "source": [
    "# define true labels from train set\n",
    "x_train = X_train_features_filtered_kbest\n",
    "y_train = df_train[\"Label\"]\n",
    "x_test = X_test_features_filtered_kbest\n",
    "y_test = df_test[\"Label\"]\n",
    "\n",
    "# fit model and test on trai\n",
    "\n",
    "\n",
    "model = MultinomialNB()\n",
    "model.fit(x_train, y_train)\n",
    "predictions = model.predict(x_test)\n",
    "print (\"Accuracy score: \", accuracy_score(y_test, predictions))"
   ]
  },
  {
   "cell_type": "code",
   "execution_count": 66,
   "id": "b1331124",
   "metadata": {},
   "outputs": [
    {
     "name": "stdout",
     "output_type": "stream",
     "text": [
      "Precision score:  0.7361266046878774\n",
      "Recall score:  0.7021431166000727\n",
      "F1 score:  0.6971846847376846\n"
     ]
    }
   ],
   "source": [
    "# For average = WEIGHTED\n",
    "print (\"Precision score: \", precision_score(y_test, predictions, average = 'weighted'))\n",
    "print (\"Recall score: \", recall_score(y_test, predictions, average = 'weighted'))\n",
    "print (\"F1 score: \", f1_score(y_test, predictions, average = 'weighted'))"
   ]
  },
  {
   "cell_type": "code",
   "execution_count": null,
   "id": "905a5f0c",
   "metadata": {},
   "outputs": [],
   "source": []
  }
 ],
 "metadata": {
  "kernelspec": {
   "display_name": "Python 3 (ipykernel)",
   "language": "python",
   "name": "python3"
  },
  "language_info": {
   "codemirror_mode": {
    "name": "ipython",
    "version": 3
   },
   "file_extension": ".py",
   "mimetype": "text/x-python",
   "name": "python",
   "nbconvert_exporter": "python",
   "pygments_lexer": "ipython3",
   "version": "3.9.7"
  }
 },
 "nbformat": 4,
 "nbformat_minor": 5
}
