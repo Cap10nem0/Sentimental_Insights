{
 "cells": [
  {
   "cell_type": "code",
   "execution_count": 1,
   "id": "3cf4d067",
   "metadata": {},
   "outputs": [],
   "source": [
    "# Importing all the necessary libraries\n",
    "\n",
    "import pandas as pd\n",
    "import numpy as np\n",
    "import nltk\n",
    "from wordcloud import WordCloud\n",
    "from wordcloud import ImageColorGenerator\n",
    "from wordcloud import STOPWORDS\n",
    "import matplotlib.pyplot as plt"
   ]
  },
  {
   "cell_type": "code",
   "execution_count": 2,
   "id": "43530bc0",
   "metadata": {},
   "outputs": [
    {
     "name": "stdout",
     "output_type": "stream",
     "text": [
      "(154, 2)\n"
     ]
    }
   ],
   "source": [
    "col_names = ['Ratings','Reviews']\n",
    "df_rev = pd.read_csv('review_around_the world.csv', names = col_names)\n",
    "print(df_rev.shape)"
   ]
  },
  {
   "cell_type": "code",
   "execution_count": 3,
   "id": "750f5c71",
   "metadata": {},
   "outputs": [
    {
     "data": {
      "text/html": [
       "<div>\n",
       "<style scoped>\n",
       "    .dataframe tbody tr th:only-of-type {\n",
       "        vertical-align: middle;\n",
       "    }\n",
       "\n",
       "    .dataframe tbody tr th {\n",
       "        vertical-align: top;\n",
       "    }\n",
       "\n",
       "    .dataframe thead th {\n",
       "        text-align: right;\n",
       "    }\n",
       "</style>\n",
       "<table border=\"1\" class=\"dataframe\">\n",
       "  <thead>\n",
       "    <tr style=\"text-align: right;\">\n",
       "      <th></th>\n",
       "      <th>Ratings</th>\n",
       "      <th>Reviews</th>\n",
       "    </tr>\n",
       "  </thead>\n",
       "  <tbody>\n",
       "    <tr>\n",
       "      <th>0</th>\n",
       "      <td>extremely positive</td>\n",
       "      <td>Very happy with quality of this edition</td>\n",
       "    </tr>\n",
       "    <tr>\n",
       "      <th>1</th>\n",
       "      <td>extremely positive</td>\n",
       "      <td>It's a great story apparently so great that no...</td>\n",
       "    </tr>\n",
       "    <tr>\n",
       "      <th>2</th>\n",
       "      <td>positive</td>\n",
       "      <td>Keep in mind this book was written a very long...</td>\n",
       "    </tr>\n",
       "    <tr>\n",
       "      <th>3</th>\n",
       "      <td>positive</td>\n",
       "      <td>The movie/series was good. The book it was bas...</td>\n",
       "    </tr>\n",
       "    <tr>\n",
       "      <th>4</th>\n",
       "      <td>positive</td>\n",
       "      <td>These editions are just beautiful. Lots of ill...</td>\n",
       "    </tr>\n",
       "  </tbody>\n",
       "</table>\n",
       "</div>"
      ],
      "text/plain": [
       "              Ratings                                            Reviews\n",
       "0  extremely positive            Very happy with quality of this edition\n",
       "1  extremely positive  It's a great story apparently so great that no...\n",
       "2            positive  Keep in mind this book was written a very long...\n",
       "3            positive  The movie/series was good. The book it was bas...\n",
       "4            positive  These editions are just beautiful. Lots of ill..."
      ]
     },
     "execution_count": 3,
     "metadata": {},
     "output_type": "execute_result"
    }
   ],
   "source": [
    "df_rev['Ratings'] = df_rev['Ratings'].astype(str)\n",
    "df_rev['Ratings'] = df_rev['Ratings'].replace({'5':'extremely positive', '4':'positive', '3':'neutral', '2':'negative', '1':'extremely negative'})\n",
    "df_rev.head()"
   ]
  },
  {
   "cell_type": "code",
   "execution_count": 4,
   "id": "7135711e",
   "metadata": {},
   "outputs": [
    {
     "data": {
      "text/html": [
       "<div>\n",
       "<style scoped>\n",
       "    .dataframe tbody tr th:only-of-type {\n",
       "        vertical-align: middle;\n",
       "    }\n",
       "\n",
       "    .dataframe tbody tr th {\n",
       "        vertical-align: top;\n",
       "    }\n",
       "\n",
       "    .dataframe thead th {\n",
       "        text-align: right;\n",
       "    }\n",
       "</style>\n",
       "<table border=\"1\" class=\"dataframe\">\n",
       "  <thead>\n",
       "    <tr style=\"text-align: right;\">\n",
       "      <th></th>\n",
       "      <th>Ratings</th>\n",
       "      <th>Reviews</th>\n",
       "    </tr>\n",
       "  </thead>\n",
       "  <tbody>\n",
       "    <tr>\n",
       "      <th>0</th>\n",
       "      <td>positive</td>\n",
       "      <td>Very happy with quality of this edition</td>\n",
       "    </tr>\n",
       "    <tr>\n",
       "      <th>1</th>\n",
       "      <td>positive</td>\n",
       "      <td>It's a great story apparently so great that no...</td>\n",
       "    </tr>\n",
       "    <tr>\n",
       "      <th>2</th>\n",
       "      <td>positive</td>\n",
       "      <td>Keep in mind this book was written a very long...</td>\n",
       "    </tr>\n",
       "    <tr>\n",
       "      <th>3</th>\n",
       "      <td>positive</td>\n",
       "      <td>The movie/series was good. The book it was bas...</td>\n",
       "    </tr>\n",
       "    <tr>\n",
       "      <th>4</th>\n",
       "      <td>positive</td>\n",
       "      <td>These editions are just beautiful. Lots of ill...</td>\n",
       "    </tr>\n",
       "  </tbody>\n",
       "</table>\n",
       "</div>"
      ],
      "text/plain": [
       "    Ratings                                            Reviews\n",
       "0  positive            Very happy with quality of this edition\n",
       "1  positive  It's a great story apparently so great that no...\n",
       "2  positive  Keep in mind this book was written a very long...\n",
       "3  positive  The movie/series was good. The book it was bas...\n",
       "4  positive  These editions are just beautiful. Lots of ill..."
      ]
     },
     "execution_count": 4,
     "metadata": {},
     "output_type": "execute_result"
    }
   ],
   "source": [
    "df_rev.loc[((df_rev[\"Ratings\"]==\"extremely negative\")),'Ratings'] = \"negative\"\n",
    "df_rev.loc[((df_rev[\"Ratings\"]==\"extremely positive\")),'Ratings'] = \"positive\"\n",
    "df_rev.head()"
   ]
  },
  {
   "cell_type": "code",
   "execution_count": 5,
   "id": "19fd29f9",
   "metadata": {},
   "outputs": [
    {
     "data": {
      "text/plain": [
       "negative    0.376623\n",
       "positive    0.331169\n",
       "neutral     0.292208\n",
       "Name: Ratings, dtype: float64"
      ]
     },
     "execution_count": 5,
     "metadata": {},
     "output_type": "execute_result"
    }
   ],
   "source": [
    "df_rev[\"Ratings\"].value_counts(normalize=True)"
   ]
  },
  {
   "cell_type": "code",
   "execution_count": null,
   "id": "bc84c7de",
   "metadata": {},
   "outputs": [],
   "source": []
  }
 ],
 "metadata": {
  "kernelspec": {
   "display_name": "Python 3 (ipykernel)",
   "language": "python",
   "name": "python3"
  },
  "language_info": {
   "codemirror_mode": {
    "name": "ipython",
    "version": 3
   },
   "file_extension": ".py",
   "mimetype": "text/x-python",
   "name": "python",
   "nbconvert_exporter": "python",
   "pygments_lexer": "ipython3",
   "version": "3.9.7"
  }
 },
 "nbformat": 4,
 "nbformat_minor": 5
}
